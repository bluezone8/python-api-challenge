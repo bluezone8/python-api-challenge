{
 "cells": [
  {
   "cell_type": "code",
   "execution_count": 1,
   "metadata": {},
   "outputs": [
    {
     "output_type": "execute_result",
     "data": {
      "text/plain": [
       "     Unnamed: 0       City        Country Code Hemisphere  Latitude  \\\n",
       "0             0       Adak  United States   US   Northern        50   \n",
       "1             1   Honolulu  United States   US   Northern        20   \n",
       "2             2     Barrow  United States   US   Northern        70   \n",
       "3             3       Hilo  United States   US   Northern        20   \n",
       "4             4  Anchorage  United States   US   Northern        60   \n",
       "..          ...        ...            ...  ...        ...       ...   \n",
       "927         927   Hamilton    New Zealand   NZ   Southern       -40   \n",
       "928         928   Hastings    New Zealand   NZ   Southern       -40   \n",
       "929         929       Suva           Fiji   FJ   Southern       -20   \n",
       "930         930   Funafuti         Tuvalu   TV   Southern       -10   \n",
       "931         931     Labasa           Fiji   FJ   Southern       -15   \n",
       "\n",
       "     Longitude  Temperature  Humidity  Cloudiness  Wind_Speed  \n",
       "0         -175        41.00        93        6.93          75  \n",
       "1         -160        75.52        88       10.85          40  \n",
       "2         -155        24.80        62       16.11          90  \n",
       "3         -155        64.87        56        5.82          75  \n",
       "4         -150        38.61        82        0.76          90  \n",
       "..         ...          ...       ...         ...         ...  \n",
       "927        175        69.84        77        8.05          75  \n",
       "928        175        53.53        71        1.99          60  \n",
       "929        180        75.20        83       10.29          75  \n",
       "930        180        84.20        70        8.05          75  \n",
       "931        180        75.90        85       11.79          64  \n",
       "\n",
       "[932 rows x 11 columns]"
      ],
      "text/html": "<div>\n<style scoped>\n    .dataframe tbody tr th:only-of-type {\n        vertical-align: middle;\n    }\n\n    .dataframe tbody tr th {\n        vertical-align: top;\n    }\n\n    .dataframe thead th {\n        text-align: right;\n    }\n</style>\n<table border=\"1\" class=\"dataframe\">\n  <thead>\n    <tr style=\"text-align: right;\">\n      <th></th>\n      <th>Unnamed: 0</th>\n      <th>City</th>\n      <th>Country</th>\n      <th>Code</th>\n      <th>Hemisphere</th>\n      <th>Latitude</th>\n      <th>Longitude</th>\n      <th>Temperature</th>\n      <th>Humidity</th>\n      <th>Cloudiness</th>\n      <th>Wind_Speed</th>\n    </tr>\n  </thead>\n  <tbody>\n    <tr>\n      <th>0</th>\n      <td>0</td>\n      <td>Adak</td>\n      <td>United States</td>\n      <td>US</td>\n      <td>Northern</td>\n      <td>50</td>\n      <td>-175</td>\n      <td>41.00</td>\n      <td>93</td>\n      <td>6.93</td>\n      <td>75</td>\n    </tr>\n    <tr>\n      <th>1</th>\n      <td>1</td>\n      <td>Honolulu</td>\n      <td>United States</td>\n      <td>US</td>\n      <td>Northern</td>\n      <td>20</td>\n      <td>-160</td>\n      <td>75.52</td>\n      <td>88</td>\n      <td>10.85</td>\n      <td>40</td>\n    </tr>\n    <tr>\n      <th>2</th>\n      <td>2</td>\n      <td>Barrow</td>\n      <td>United States</td>\n      <td>US</td>\n      <td>Northern</td>\n      <td>70</td>\n      <td>-155</td>\n      <td>24.80</td>\n      <td>62</td>\n      <td>16.11</td>\n      <td>90</td>\n    </tr>\n    <tr>\n      <th>3</th>\n      <td>3</td>\n      <td>Hilo</td>\n      <td>United States</td>\n      <td>US</td>\n      <td>Northern</td>\n      <td>20</td>\n      <td>-155</td>\n      <td>64.87</td>\n      <td>56</td>\n      <td>5.82</td>\n      <td>75</td>\n    </tr>\n    <tr>\n      <th>4</th>\n      <td>4</td>\n      <td>Anchorage</td>\n      <td>United States</td>\n      <td>US</td>\n      <td>Northern</td>\n      <td>60</td>\n      <td>-150</td>\n      <td>38.61</td>\n      <td>82</td>\n      <td>0.76</td>\n      <td>90</td>\n    </tr>\n    <tr>\n      <th>...</th>\n      <td>...</td>\n      <td>...</td>\n      <td>...</td>\n      <td>...</td>\n      <td>...</td>\n      <td>...</td>\n      <td>...</td>\n      <td>...</td>\n      <td>...</td>\n      <td>...</td>\n      <td>...</td>\n    </tr>\n    <tr>\n      <th>927</th>\n      <td>927</td>\n      <td>Hamilton</td>\n      <td>New Zealand</td>\n      <td>NZ</td>\n      <td>Southern</td>\n      <td>-40</td>\n      <td>175</td>\n      <td>69.84</td>\n      <td>77</td>\n      <td>8.05</td>\n      <td>75</td>\n    </tr>\n    <tr>\n      <th>928</th>\n      <td>928</td>\n      <td>Hastings</td>\n      <td>New Zealand</td>\n      <td>NZ</td>\n      <td>Southern</td>\n      <td>-40</td>\n      <td>175</td>\n      <td>53.53</td>\n      <td>71</td>\n      <td>1.99</td>\n      <td>60</td>\n    </tr>\n    <tr>\n      <th>929</th>\n      <td>929</td>\n      <td>Suva</td>\n      <td>Fiji</td>\n      <td>FJ</td>\n      <td>Southern</td>\n      <td>-20</td>\n      <td>180</td>\n      <td>75.20</td>\n      <td>83</td>\n      <td>10.29</td>\n      <td>75</td>\n    </tr>\n    <tr>\n      <th>930</th>\n      <td>930</td>\n      <td>Funafuti</td>\n      <td>Tuvalu</td>\n      <td>TV</td>\n      <td>Southern</td>\n      <td>-10</td>\n      <td>180</td>\n      <td>84.20</td>\n      <td>70</td>\n      <td>8.05</td>\n      <td>75</td>\n    </tr>\n    <tr>\n      <th>931</th>\n      <td>931</td>\n      <td>Labasa</td>\n      <td>Fiji</td>\n      <td>FJ</td>\n      <td>Southern</td>\n      <td>-15</td>\n      <td>180</td>\n      <td>75.90</td>\n      <td>85</td>\n      <td>11.79</td>\n      <td>64</td>\n    </tr>\n  </tbody>\n</table>\n<p>932 rows × 11 columns</p>\n</div>"
     },
     "metadata": {},
     "execution_count": 1
    }
   ],
   "source": [
    "# Import the python libraries required for the data anaysis visualizations as well as the API Key for Google Cloud\n",
    "import matplotlib.pyplot as plt\n",
    "import pandas as pd \n",
    "import scipy.stats as st \n",
    "import numpy as np \n",
    "from scipy.stats import linregress \n",
    "import json\n",
    "from mapconfig import api_key\n",
    "import requests\n",
    "import pprint\n",
    "import gmaps\n",
    "\n",
    "\n",
    "# assign variables to city data csv filepath\n",
    "city_data_loc=\"worldcity_data.csv\"\n",
    "\n",
    "# read the data from the csv into Pandas dataframe\n",
    "city_data=pd.read_csv(city_data_loc)\n",
    "\n",
    "# Output the dataframe to the console/terminal\n",
    "city_data"
   ]
  },
  {
   "cell_type": "code",
   "execution_count": 2,
   "metadata": {},
   "outputs": [],
   "source": [
    "# create a variable which holds all of the latitude and longitude data fror the cities\n",
    "coord=city_data[[\"Latitude\", \"Longitude\"]]\n",
    "# create a variable which holds all of the humidity data fro the cities\n",
    "humid=city_data[\"Humidity\"]"
   ]
  },
  {
   "cell_type": "code",
   "execution_count": 3,
   "metadata": {},
   "outputs": [
    {
     "output_type": "display_data",
     "data": {
      "text/plain": "Figure(layout=FigureLayout(height='420px'))",
      "application/vnd.jupyter.widget-view+json": {
       "version_major": 2,
       "version_minor": 0,
       "model_id": "b5868dc6310b42a88e0acea1d34faa2f"
      }
     },
     "metadata": {}
    }
   ],
   "source": [
    "#plot a heatmap using Google Maps API to depict the relative humidities of all of the cities\n",
    "gmaps.configure(api_key=api_key)\n",
    "fig=gmaps.figure()\n",
    "fig.add_layer(gmaps.heatmap_layer(coord, weights=humid))\n",
    "fig"
   ]
  },
  {
   "cell_type": "code",
   "execution_count": 4,
   "metadata": {},
   "outputs": [
    {
     "output_type": "execute_result",
     "data": {
      "text/plain": [
       "     Unnamed: 0             City   Country Code Hemisphere  Latitude  \\\n",
       "28           28         Mexicali    Mexico   MX   Northern        35   \n",
       "54           54          Torreón    Mexico   MX   Northern        25   \n",
       "527         527          Baghdad      Iraq   IQ   Northern        35   \n",
       "578         578           Lahore  Pakistan   PK   Northern        30   \n",
       "582         582           Jaipur     India   IN   Northern        25   \n",
       "583         583         Ludhiana     India   IN   Northern        30   \n",
       "747         747         Ayacucho      Peru   PE   Southern       -15   \n",
       "761         761         Santiago     Chile   CL   Southern       -35   \n",
       "810         810  Poços de Caldas    Brazil   BR   Southern       -20   \n",
       "\n",
       "     Longitude  Temperature  Humidity  Cloudiness  Wind_Speed  \n",
       "28        -115        79.39        33        1.28           5  \n",
       "54        -105        75.20        19        1.50           5  \n",
       "527         45        80.60        22        2.24           0  \n",
       "578         75        82.40        48        2.93           0  \n",
       "582         75        82.40        30        2.24           1  \n",
       "583         75        76.41        27        2.42           0  \n",
       "747        -75        71.60        24        2.24           3  \n",
       "761        -70        79.63        28        2.24           0  \n",
       "810        -45        82.29        38        1.92           5  "
      ],
      "text/html": "<div>\n<style scoped>\n    .dataframe tbody tr th:only-of-type {\n        vertical-align: middle;\n    }\n\n    .dataframe tbody tr th {\n        vertical-align: top;\n    }\n\n    .dataframe thead th {\n        text-align: right;\n    }\n</style>\n<table border=\"1\" class=\"dataframe\">\n  <thead>\n    <tr style=\"text-align: right;\">\n      <th></th>\n      <th>Unnamed: 0</th>\n      <th>City</th>\n      <th>Country</th>\n      <th>Code</th>\n      <th>Hemisphere</th>\n      <th>Latitude</th>\n      <th>Longitude</th>\n      <th>Temperature</th>\n      <th>Humidity</th>\n      <th>Cloudiness</th>\n      <th>Wind_Speed</th>\n    </tr>\n  </thead>\n  <tbody>\n    <tr>\n      <th>28</th>\n      <td>28</td>\n      <td>Mexicali</td>\n      <td>Mexico</td>\n      <td>MX</td>\n      <td>Northern</td>\n      <td>35</td>\n      <td>-115</td>\n      <td>79.39</td>\n      <td>33</td>\n      <td>1.28</td>\n      <td>5</td>\n    </tr>\n    <tr>\n      <th>54</th>\n      <td>54</td>\n      <td>Torreón</td>\n      <td>Mexico</td>\n      <td>MX</td>\n      <td>Northern</td>\n      <td>25</td>\n      <td>-105</td>\n      <td>75.20</td>\n      <td>19</td>\n      <td>1.50</td>\n      <td>5</td>\n    </tr>\n    <tr>\n      <th>527</th>\n      <td>527</td>\n      <td>Baghdad</td>\n      <td>Iraq</td>\n      <td>IQ</td>\n      <td>Northern</td>\n      <td>35</td>\n      <td>45</td>\n      <td>80.60</td>\n      <td>22</td>\n      <td>2.24</td>\n      <td>0</td>\n    </tr>\n    <tr>\n      <th>578</th>\n      <td>578</td>\n      <td>Lahore</td>\n      <td>Pakistan</td>\n      <td>PK</td>\n      <td>Northern</td>\n      <td>30</td>\n      <td>75</td>\n      <td>82.40</td>\n      <td>48</td>\n      <td>2.93</td>\n      <td>0</td>\n    </tr>\n    <tr>\n      <th>582</th>\n      <td>582</td>\n      <td>Jaipur</td>\n      <td>India</td>\n      <td>IN</td>\n      <td>Northern</td>\n      <td>25</td>\n      <td>75</td>\n      <td>82.40</td>\n      <td>30</td>\n      <td>2.24</td>\n      <td>1</td>\n    </tr>\n    <tr>\n      <th>583</th>\n      <td>583</td>\n      <td>Ludhiana</td>\n      <td>India</td>\n      <td>IN</td>\n      <td>Northern</td>\n      <td>30</td>\n      <td>75</td>\n      <td>76.41</td>\n      <td>27</td>\n      <td>2.42</td>\n      <td>0</td>\n    </tr>\n    <tr>\n      <th>747</th>\n      <td>747</td>\n      <td>Ayacucho</td>\n      <td>Peru</td>\n      <td>PE</td>\n      <td>Southern</td>\n      <td>-15</td>\n      <td>-75</td>\n      <td>71.60</td>\n      <td>24</td>\n      <td>2.24</td>\n      <td>3</td>\n    </tr>\n    <tr>\n      <th>761</th>\n      <td>761</td>\n      <td>Santiago</td>\n      <td>Chile</td>\n      <td>CL</td>\n      <td>Southern</td>\n      <td>-35</td>\n      <td>-70</td>\n      <td>79.63</td>\n      <td>28</td>\n      <td>2.24</td>\n      <td>0</td>\n    </tr>\n    <tr>\n      <th>810</th>\n      <td>810</td>\n      <td>Poços de Caldas</td>\n      <td>Brazil</td>\n      <td>BR</td>\n      <td>Southern</td>\n      <td>-20</td>\n      <td>-45</td>\n      <td>82.29</td>\n      <td>38</td>\n      <td>1.92</td>\n      <td>5</td>\n    </tr>\n  </tbody>\n</table>\n</div>"
     },
     "metadata": {},
     "execution_count": 4
    }
   ],
   "source": [
    "# Segregate the dataframe based on temperature range, humidity, cloudiness, and wind speeds to determine \"ideal vacation cities\" from city weather data\n",
    "temprange_data=city_data[(city_data[\"Temperature\"]<85) & (city_data[\"Temperature\"]>69) & (city_data[\"Cloudiness\"]<3) & (city_data[\"Wind_Speed\"]<15) & (city_data[\"Humidity\"]<50)]\n",
    "\n",
    "# output the resulting reduced dataframe of vacation city options to the console/terminal\n",
    "temprange_data"
   ]
  },
  {
   "cell_type": "code",
   "execution_count": null,
   "metadata": {},
   "outputs": [],
   "source": []
  },
  {
   "cell_type": "code",
   "execution_count": 5,
   "metadata": {},
   "outputs": [
    {
     "output_type": "stream",
     "name": "stdout",
     "text": [
      "['Avi Resort & Casino', 'Motel Campo Real', 'گوندی قەواڵی', 'STARiHOTELS Bhatinda Punjab', 'Hotel Castle Bijaipur', 'STARiHOTELS Bhatinda Punjab', 'Casa Andina Standard Nasca', 'Hotel Hualum', 'Suntory Business Hotel']\n"
     ]
    }
   ],
   "source": [
    "# create an empty list to hold extracted hotels in vacation cities\n",
    "lodging=[]\n",
    "\n",
    "# create lists that hold the latitude and longitude data for the vaactiuon cities and assign to variables\n",
    "lat_list=list(temprange_data[\"Latitude\"])\n",
    "lon_list=list(temprange_data[\"Longitude\"])\n",
    "\n",
    "# lopp that iterates through the vacation city data latitude and longitude lists and makes calls to Google Places API based on those coordinates \n",
    "for i in range(len(temprange_data)):\n",
    "\n",
    "    # create variables that hold the current indexed value of the latitude and longitude \n",
    "    lat_indx=lat_list[i]\n",
    "    lon_indx=lon_list[i]\n",
    "\n",
    "    #create a vcarible that holds the API url to be called including the coordinate data the radius around the coordinates to search and the fact that lodging is the category of location to be searched for as well as the API key\n",
    "    url=f\"https://maps.googleapis.com/maps/api/place/nearbysearch/json?location={lat_indx},{lon_indx}&radius=50000&type=lodging&key=\" + api_key\n",
    "\n",
    "    # make the API call and return the data in json format to a variable\n",
    "    response=requests.get(url)\n",
    "    poi_data=response.json()\n",
    "\n",
    "    # append the retrieved hotel data for the locations to the lodging list\n",
    "    lodging.append(poi_data[\"results\"][0][\"name\"])\n",
    "\n",
    "# output the lodging list to the console terminal \n",
    "print(lodging)"
   ]
  },
  {
   "cell_type": "code",
   "execution_count": 6,
   "metadata": {},
   "outputs": [
    {
     "output_type": "execute_result",
     "data": {
      "text/plain": [
       "     Unnamed: 0             City   Country Code Hemisphere  Latitude  \\\n",
       "28           28         Mexicali    Mexico   MX   Northern        35   \n",
       "54           54          Torreón    Mexico   MX   Northern        25   \n",
       "527         527          Baghdad      Iraq   IQ   Northern        35   \n",
       "578         578           Lahore  Pakistan   PK   Northern        30   \n",
       "582         582           Jaipur     India   IN   Northern        25   \n",
       "583         583         Ludhiana     India   IN   Northern        30   \n",
       "747         747         Ayacucho      Peru   PE   Southern       -15   \n",
       "761         761         Santiago     Chile   CL   Southern       -35   \n",
       "810         810  Poços de Caldas    Brazil   BR   Southern       -20   \n",
       "\n",
       "     Longitude  Temperature  Humidity  Cloudiness  Wind_Speed  \\\n",
       "28        -115        79.39        33        1.28           5   \n",
       "54        -105        75.20        19        1.50           5   \n",
       "527         45        80.60        22        2.24           0   \n",
       "578         75        82.40        48        2.93           0   \n",
       "582         75        82.40        30        2.24           1   \n",
       "583         75        76.41        27        2.42           0   \n",
       "747        -75        71.60        24        2.24           3   \n",
       "761        -70        79.63        28        2.24           0   \n",
       "810        -45        82.29        38        1.92           5   \n",
       "\n",
       "                           Hotel  \n",
       "28           Avi Resort & Casino  \n",
       "54              Motel Campo Real  \n",
       "527                 گوندی قەواڵی  \n",
       "578  STARiHOTELS Bhatinda Punjab  \n",
       "582        Hotel Castle Bijaipur  \n",
       "583  STARiHOTELS Bhatinda Punjab  \n",
       "747   Casa Andina Standard Nasca  \n",
       "761                 Hotel Hualum  \n",
       "810       Suntory Business Hotel  "
      ],
      "text/html": "<div>\n<style scoped>\n    .dataframe tbody tr th:only-of-type {\n        vertical-align: middle;\n    }\n\n    .dataframe tbody tr th {\n        vertical-align: top;\n    }\n\n    .dataframe thead th {\n        text-align: right;\n    }\n</style>\n<table border=\"1\" class=\"dataframe\">\n  <thead>\n    <tr style=\"text-align: right;\">\n      <th></th>\n      <th>Unnamed: 0</th>\n      <th>City</th>\n      <th>Country</th>\n      <th>Code</th>\n      <th>Hemisphere</th>\n      <th>Latitude</th>\n      <th>Longitude</th>\n      <th>Temperature</th>\n      <th>Humidity</th>\n      <th>Cloudiness</th>\n      <th>Wind_Speed</th>\n      <th>Hotel</th>\n    </tr>\n  </thead>\n  <tbody>\n    <tr>\n      <th>28</th>\n      <td>28</td>\n      <td>Mexicali</td>\n      <td>Mexico</td>\n      <td>MX</td>\n      <td>Northern</td>\n      <td>35</td>\n      <td>-115</td>\n      <td>79.39</td>\n      <td>33</td>\n      <td>1.28</td>\n      <td>5</td>\n      <td>Avi Resort &amp; Casino</td>\n    </tr>\n    <tr>\n      <th>54</th>\n      <td>54</td>\n      <td>Torreón</td>\n      <td>Mexico</td>\n      <td>MX</td>\n      <td>Northern</td>\n      <td>25</td>\n      <td>-105</td>\n      <td>75.20</td>\n      <td>19</td>\n      <td>1.50</td>\n      <td>5</td>\n      <td>Motel Campo Real</td>\n    </tr>\n    <tr>\n      <th>527</th>\n      <td>527</td>\n      <td>Baghdad</td>\n      <td>Iraq</td>\n      <td>IQ</td>\n      <td>Northern</td>\n      <td>35</td>\n      <td>45</td>\n      <td>80.60</td>\n      <td>22</td>\n      <td>2.24</td>\n      <td>0</td>\n      <td>گوندی قەواڵی</td>\n    </tr>\n    <tr>\n      <th>578</th>\n      <td>578</td>\n      <td>Lahore</td>\n      <td>Pakistan</td>\n      <td>PK</td>\n      <td>Northern</td>\n      <td>30</td>\n      <td>75</td>\n      <td>82.40</td>\n      <td>48</td>\n      <td>2.93</td>\n      <td>0</td>\n      <td>STARiHOTELS Bhatinda Punjab</td>\n    </tr>\n    <tr>\n      <th>582</th>\n      <td>582</td>\n      <td>Jaipur</td>\n      <td>India</td>\n      <td>IN</td>\n      <td>Northern</td>\n      <td>25</td>\n      <td>75</td>\n      <td>82.40</td>\n      <td>30</td>\n      <td>2.24</td>\n      <td>1</td>\n      <td>Hotel Castle Bijaipur</td>\n    </tr>\n    <tr>\n      <th>583</th>\n      <td>583</td>\n      <td>Ludhiana</td>\n      <td>India</td>\n      <td>IN</td>\n      <td>Northern</td>\n      <td>30</td>\n      <td>75</td>\n      <td>76.41</td>\n      <td>27</td>\n      <td>2.42</td>\n      <td>0</td>\n      <td>STARiHOTELS Bhatinda Punjab</td>\n    </tr>\n    <tr>\n      <th>747</th>\n      <td>747</td>\n      <td>Ayacucho</td>\n      <td>Peru</td>\n      <td>PE</td>\n      <td>Southern</td>\n      <td>-15</td>\n      <td>-75</td>\n      <td>71.60</td>\n      <td>24</td>\n      <td>2.24</td>\n      <td>3</td>\n      <td>Casa Andina Standard Nasca</td>\n    </tr>\n    <tr>\n      <th>761</th>\n      <td>761</td>\n      <td>Santiago</td>\n      <td>Chile</td>\n      <td>CL</td>\n      <td>Southern</td>\n      <td>-35</td>\n      <td>-70</td>\n      <td>79.63</td>\n      <td>28</td>\n      <td>2.24</td>\n      <td>0</td>\n      <td>Hotel Hualum</td>\n    </tr>\n    <tr>\n      <th>810</th>\n      <td>810</td>\n      <td>Poços de Caldas</td>\n      <td>Brazil</td>\n      <td>BR</td>\n      <td>Southern</td>\n      <td>-20</td>\n      <td>-45</td>\n      <td>82.29</td>\n      <td>38</td>\n      <td>1.92</td>\n      <td>5</td>\n      <td>Suntory Business Hotel</td>\n    </tr>\n  </tbody>\n</table>\n</div>"
     },
     "metadata": {},
     "execution_count": 6
    }
   ],
   "source": [
    "# create a new dataframe that contains the segregated vacation city data and a column containing the hotel names\n",
    "vacaloc_data=temprange_data.copy()\n",
    "vacaloc_data[\"Hotel\"]=lodging\n",
    "vacaloc_data"
   ]
  },
  {
   "cell_type": "code",
   "execution_count": 7,
   "metadata": {},
   "outputs": [],
   "source": [
    "\n",
    "# repeat the code for the creation of variable holding the coorinates of the orginal city list and the creation of variable holding the humidity data from that dataframe for portability and readability\n",
    "coord=city_data[[\"Latitude\", \"Longitude\"]]\n",
    "humid=city_data[\"Humidity\"]"
   ]
  },
  {
   "cell_type": "code",
   "execution_count": 8,
   "metadata": {},
   "outputs": [],
   "source": [
    "# replot the heat map of humidity for the orginal ~1000 city list of world cities\n",
    "fig=gmaps.figure()\n",
    "fig.add_layer(gmaps.heatmap_layer(coord, weights=humid))"
   ]
  },
  {
   "cell_type": "code",
   "execution_count": 9,
   "metadata": {},
   "outputs": [],
   "source": [
    "# create variable containing the coordinates for the cities in the vacation city data\n",
    "markloc_data=temprange_data[[\"Latitude\", \"Longitude\"]]\n",
    "\n",
    "# create the list of labels for the markers for the hotels \n",
    "labels=[\"Avi Resort and Casino in Mexicali Mexico\", \"Motel Campo Real in Torreon Mexico\", \"گوندی قەواڵی in Baghdad Iraq\", \"STARiHOTELS Bhatinda Punjab in Lahore Pakistan\", \"Hotel Castle Bijaipur in Jaipur India\", \"STARiHOTELS Bhatinda Punjab in Ludhiana India\" , \"Casa Andina Standard Nasca in Ayacucho Peru\", \"Hotel Hualum in Santiago Chile\", \"Suntory Business Hotel in Pocos de Caldas Brazil\"]"
   ]
  },
  {
   "cell_type": "code",
   "execution_count": 10,
   "metadata": {},
   "outputs": [
    {
     "output_type": "display_data",
     "data": {
      "text/plain": "Figure(layout=FigureLayout(height='420px'))",
      "application/vnd.jupyter.widget-view+json": {
       "version_major": 2,
       "version_minor": 0,
       "model_id": "86bca3d4604f40688b8b992574229a26"
      }
     },
     "metadata": {}
    }
   ],
   "source": [
    "# plot the markers and the pop up labels for the hotels on the world humidity heatmap \n",
    "markers=gmaps.marker_layer(markloc_data, info_box_content=labels)\n",
    "fig.add_layer(markers)\n",
    "fig"
   ]
  },
  {
   "cell_type": "code",
   "execution_count": null,
   "metadata": {},
   "outputs": [],
   "source": []
  }
 ],
 "metadata": {
  "kernelspec": {
   "display_name": "Python 3",
   "language": "python",
   "name": "python3"
  },
  "language_info": {
   "codemirror_mode": {
    "name": "ipython",
    "version": 3
   },
   "file_extension": ".py",
   "mimetype": "text/x-python",
   "name": "python",
   "nbconvert_exporter": "python",
   "pygments_lexer": "ipython3",
   "version": "3.8.3-final"
  }
 },
 "nbformat": 4,
 "nbformat_minor": 2
}